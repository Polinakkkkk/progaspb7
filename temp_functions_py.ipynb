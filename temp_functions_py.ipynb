{
  "nbformat": 4,
  "nbformat_minor": 0,
  "metadata": {
    "colab": {
      "provenance": [],
      "authorship_tag": "ABX9TyP0M70D2X0kBWwfCzwDFOpK",
      "include_colab_link": true
    },
    "kernelspec": {
      "name": "python3",
      "display_name": "Python 3"
    },
    "language_info": {
      "name": "python"
    }
  },
  "cells": [
    {
      "cell_type": "markdown",
      "metadata": {
        "id": "view-in-github",
        "colab_type": "text"
      },
      "source": [
        "<a href=\"https://colab.research.google.com/github/Polinakkkkk/progaspb7/blob/main/temp_functions_py.ipynb\" target=\"_parent\"><img src=\"https://colab.research.google.com/assets/colab-badge.svg\" alt=\"Open In Colab\"/></a>"
      ]
    },
    {
      "cell_type": "code",
      "execution_count": null,
      "metadata": {
        "id": "olZS2SHDx1_b"
      },
      "outputs": [],
      "source": [
        "def fahr_to_celsius(temp_fahrenheit):\n",
        "    return (temp_fahrenheit -32)/1.8\n",
        "\n",
        "\"\"\"\n",
        "C помощью этого кода мы создали функцию, которая конвертирует температуру из градусов по Фаренгейту в градусы Цельсия.\n",
        "\n",
        "Функция temp_fahrenheit это температура в градусах по Фаренгейту, которую необходимо конвертировать.\n",
        "\n",
        "Возвращает в температуру в градусах Цельсия.\n",
        "\n",
        "Формула для конвертации: (Температура по Фаренгейту - 32) / 1.8\n",
        "\"\"\"\n",
        "\n",
        "def temp_classifier(temp_celsius): # Создала функцию\n",
        "    if temp_celsius < -2:\n",
        "        return 0\n",
        "    if temp_celsius >= -2 and temp_celsius < 2:\n",
        "        return 1\n",
        "    if temp_celsius >= 2 and temp_celsius < 15:\n",
        "        return 2\n",
        "    if temp_celsius >= 15:\n",
        "        return 3   # Поставила условия\n",
        "\n",
        "\"\"\"\n",
        "C помощью этого кода мы создали функцию, которая принимает значение температуры в Цельсиях\n",
        "чтобы затем классифицировать её в целочисленные числа 0-3 на основе критериев, которые были приведены выше.\n",
        "\n",
        "Функция temp_classifier классифицирует температуру в градусах Цельсия в одну из четырех категорий.\n",
        "\n",
        "temp_celsius это температура в градусах Цельсия для классификации.\n",
        "\n",
        "При помощи if мы можем составить возможные значения:\n",
        "           0: Если температура ниже -2 градусов Цельсия.\n",
        "           1: Если температура находится между -2 и 2 градусами Цельсия (включительно).\n",
        "           2: Если температура находится между 2 и 15 градусами Цельсия (включительно).\n",
        "           3: Если температура 15 градусов Цельсия и выше.\n",
        "\"\"\"\n",
        "\n"
      ]
    }
  ]
}